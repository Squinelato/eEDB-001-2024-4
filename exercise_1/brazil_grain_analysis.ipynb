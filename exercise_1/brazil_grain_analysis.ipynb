{
 "cells": [
  {
   "cell_type": "markdown",
   "id": "01263385-2799-4dab-b4a7-b982ba897648",
   "metadata": {},
   "source": [
    "# Exercício 1\n",
    "## Demanda do Especialista do Ministério da Agricultura\n",
    "- Avaliação do Impacto de Fatores Climáticos na Produção Agrícola\n",
    "\n",
    "\n",
    "---"
   ]
  },
  {
   "cell_type": "markdown",
   "id": "cf5b6ecc-b177-4f99-98d1-645c512e2a0f",
   "metadata": {},
   "source": [
    "Importando bibliotevas necessárias"
   ]
  },
  {
   "cell_type": "code",
   "execution_count": 127,
   "id": "aa70ef2e-ccc5-47d3-b9f8-1599a6f8d559",
   "metadata": {},
   "outputs": [],
   "source": [
    "import pandas as pd\n",
    "from hashlib import sha1"
   ]
  },
  {
   "cell_type": "markdown",
   "id": "764cc0cd-578d-47da-8121-8a880abca735",
   "metadata": {},
   "source": [
    "### Lendo dados sobre área plantada"
   ]
  },
  {
   "cell_type": "code",
   "execution_count": 167,
   "id": "7b875442-c4a8-459e-81ff-62122a6aacc5",
   "metadata": {},
   "outputs": [],
   "source": [
    "df_planted_area = pd.read_csv(\n",
    "    filepath_or_buffer='data/raw/grains/planted_area.csv',\n",
    "    sep=',',\n",
    "    index_col=0,\n",
    ")"
   ]
  },
  {
   "cell_type": "markdown",
   "id": "0bdd767b",
   "metadata": {},
   "source": [
    "Transformando tabela de tipo largo para longo"
   ]
  },
  {
   "cell_type": "code",
   "execution_count": 168,
   "id": "fca3df0c-6118-4bd0-b217-86ff078d3a98",
   "metadata": {},
   "outputs": [],
   "source": [
    "df_planted_area = pd.melt(\n",
    "    frame=df_planted_area,\n",
    "    id_vars=['Grain', 'Year'],\n",
    "    var_name='city',\n",
    "    value_name='planted_area'\n",
    ")"
   ]
  },
  {
   "cell_type": "markdown",
   "id": "6d345a0a",
   "metadata": {},
   "source": [
    "Visualizando dados"
   ]
  },
  {
   "cell_type": "code",
   "execution_count": 169,
   "id": "bd84784b",
   "metadata": {},
   "outputs": [
    {
     "data": {
      "text/html": [
       "<div>\n",
       "<style scoped>\n",
       "    .dataframe tbody tr th:only-of-type {\n",
       "        vertical-align: middle;\n",
       "    }\n",
       "\n",
       "    .dataframe tbody tr th {\n",
       "        vertical-align: top;\n",
       "    }\n",
       "\n",
       "    .dataframe thead th {\n",
       "        text-align: right;\n",
       "    }\n",
       "</style>\n",
       "<table border=\"1\" class=\"dataframe\">\n",
       "  <thead>\n",
       "    <tr style=\"text-align: right;\">\n",
       "      <th></th>\n",
       "      <th>Grain</th>\n",
       "      <th>Year</th>\n",
       "      <th>city</th>\n",
       "      <th>planted_area</th>\n",
       "    </tr>\n",
       "  </thead>\n",
       "  <tbody>\n",
       "    <tr>\n",
       "      <th>2558975</th>\n",
       "      <td>Pea</td>\n",
       "      <td>2017</td>\n",
       "      <td>Brasília (DF)</td>\n",
       "      <td>32.0</td>\n",
       "    </tr>\n",
       "    <tr>\n",
       "      <th>2558976</th>\n",
       "      <td>Barley</td>\n",
       "      <td>2018</td>\n",
       "      <td>Brasília (DF)</td>\n",
       "      <td>100.0</td>\n",
       "    </tr>\n",
       "    <tr>\n",
       "      <th>2558977</th>\n",
       "      <td>Pea</td>\n",
       "      <td>2018</td>\n",
       "      <td>Brasília (DF)</td>\n",
       "      <td>40.0</td>\n",
       "    </tr>\n",
       "    <tr>\n",
       "      <th>2558978</th>\n",
       "      <td>Barley</td>\n",
       "      <td>2019</td>\n",
       "      <td>Brasília (DF)</td>\n",
       "      <td>100.0</td>\n",
       "    </tr>\n",
       "    <tr>\n",
       "      <th>2558979</th>\n",
       "      <td>Pea</td>\n",
       "      <td>2019</td>\n",
       "      <td>Brasília (DF)</td>\n",
       "      <td>40.0</td>\n",
       "    </tr>\n",
       "  </tbody>\n",
       "</table>\n",
       "</div>"
      ],
      "text/plain": [
       "          Grain  Year           city  planted_area\n",
       "2558975     Pea  2017  Brasília (DF)          32.0\n",
       "2558976  Barley  2018  Brasília (DF)         100.0\n",
       "2558977     Pea  2018  Brasília (DF)          40.0\n",
       "2558978  Barley  2019  Brasília (DF)         100.0\n",
       "2558979     Pea  2019  Brasília (DF)          40.0"
      ]
     },
     "execution_count": 169,
     "metadata": {},
     "output_type": "execute_result"
    }
   ],
   "source": [
    "df_planted_area.tail()"
   ]
  },
  {
   "cell_type": "markdown",
   "id": "96eeb537",
   "metadata": {},
   "source": [
    "### Lendo dados sobre área colhida"
   ]
  },
  {
   "cell_type": "code",
   "execution_count": 170,
   "id": "011048a1",
   "metadata": {},
   "outputs": [],
   "source": [
    "df_harvested_area = pd.read_csv(\n",
    "    filepath_or_buffer='data/raw/grains/harvested_area.csv',\n",
    "    sep=',',\n",
    "    index_col=0,\n",
    ")"
   ]
  },
  {
   "cell_type": "markdown",
   "id": "7bafab6e",
   "metadata": {},
   "source": [
    "Transformando tabela de tipo largo para longo"
   ]
  },
  {
   "cell_type": "code",
   "execution_count": 171,
   "id": "d23b1b1f",
   "metadata": {},
   "outputs": [],
   "source": [
    "df_harvested_area = pd.melt(\n",
    "    frame=df_harvested_area,\n",
    "    id_vars=['Grain', 'Year'],\n",
    "    var_name='city',\n",
    "    value_name='harvested_area'\n",
    ")"
   ]
  },
  {
   "cell_type": "markdown",
   "id": "034f706b",
   "metadata": {},
   "source": [
    "Visualizando dados"
   ]
  },
  {
   "cell_type": "code",
   "execution_count": 172,
   "id": "faad9ff0",
   "metadata": {},
   "outputs": [
    {
     "data": {
      "text/html": [
       "<div>\n",
       "<style scoped>\n",
       "    .dataframe tbody tr th:only-of-type {\n",
       "        vertical-align: middle;\n",
       "    }\n",
       "\n",
       "    .dataframe tbody tr th {\n",
       "        vertical-align: top;\n",
       "    }\n",
       "\n",
       "    .dataframe thead th {\n",
       "        text-align: right;\n",
       "    }\n",
       "</style>\n",
       "<table border=\"1\" class=\"dataframe\">\n",
       "  <thead>\n",
       "    <tr style=\"text-align: right;\">\n",
       "      <th></th>\n",
       "      <th>Grain</th>\n",
       "      <th>Year</th>\n",
       "      <th>city</th>\n",
       "      <th>harvested_area</th>\n",
       "    </tr>\n",
       "  </thead>\n",
       "  <tbody>\n",
       "    <tr>\n",
       "      <th>2558975</th>\n",
       "      <td>Pea</td>\n",
       "      <td>2017</td>\n",
       "      <td>Brasília (DF)</td>\n",
       "      <td>32.0</td>\n",
       "    </tr>\n",
       "    <tr>\n",
       "      <th>2558976</th>\n",
       "      <td>Barley</td>\n",
       "      <td>2018</td>\n",
       "      <td>Brasília (DF)</td>\n",
       "      <td>100.0</td>\n",
       "    </tr>\n",
       "    <tr>\n",
       "      <th>2558977</th>\n",
       "      <td>Pea</td>\n",
       "      <td>2018</td>\n",
       "      <td>Brasília (DF)</td>\n",
       "      <td>40.0</td>\n",
       "    </tr>\n",
       "    <tr>\n",
       "      <th>2558978</th>\n",
       "      <td>Barley</td>\n",
       "      <td>2019</td>\n",
       "      <td>Brasília (DF)</td>\n",
       "      <td>70.0</td>\n",
       "    </tr>\n",
       "    <tr>\n",
       "      <th>2558979</th>\n",
       "      <td>Pea</td>\n",
       "      <td>2019</td>\n",
       "      <td>Brasília (DF)</td>\n",
       "      <td>40.0</td>\n",
       "    </tr>\n",
       "  </tbody>\n",
       "</table>\n",
       "</div>"
      ],
      "text/plain": [
       "          Grain  Year           city  harvested_area\n",
       "2558975     Pea  2017  Brasília (DF)            32.0\n",
       "2558976  Barley  2018  Brasília (DF)           100.0\n",
       "2558977     Pea  2018  Brasília (DF)            40.0\n",
       "2558978  Barley  2019  Brasília (DF)            70.0\n",
       "2558979     Pea  2019  Brasília (DF)            40.0"
      ]
     },
     "execution_count": 172,
     "metadata": {},
     "output_type": "execute_result"
    }
   ],
   "source": [
    "df_harvested_area.tail()"
   ]
  },
  {
   "cell_type": "markdown",
   "id": "a315c805",
   "metadata": {},
   "source": [
    "### Lendo dados sobre produtividade"
   ]
  },
  {
   "cell_type": "code",
   "execution_count": 173,
   "id": "7fc566f8",
   "metadata": {},
   "outputs": [],
   "source": [
    "df_yield = pd.read_csv(\n",
    "    filepath_or_buffer='data/raw/grains/yield.csv',\n",
    "    sep=',',\n",
    "    index_col=0,\n",
    ")"
   ]
  },
  {
   "cell_type": "markdown",
   "id": "601c454c",
   "metadata": {},
   "source": [
    "Transformando tabela de tipo largo para longo"
   ]
  },
  {
   "cell_type": "code",
   "execution_count": 174,
   "id": "9eefc849",
   "metadata": {},
   "outputs": [],
   "source": [
    "df_yield = pd.melt(\n",
    "    frame=df_yield,\n",
    "    id_vars=['Grain', 'Year'],\n",
    "    var_name='city',\n",
    "    value_name='yield'\n",
    ")"
   ]
  },
  {
   "cell_type": "markdown",
   "id": "d3ce429d",
   "metadata": {},
   "source": [
    "Visualizando dados"
   ]
  },
  {
   "cell_type": "code",
   "execution_count": 175,
   "id": "93ec92fb",
   "metadata": {},
   "outputs": [
    {
     "data": {
      "text/html": [
       "<div>\n",
       "<style scoped>\n",
       "    .dataframe tbody tr th:only-of-type {\n",
       "        vertical-align: middle;\n",
       "    }\n",
       "\n",
       "    .dataframe tbody tr th {\n",
       "        vertical-align: top;\n",
       "    }\n",
       "\n",
       "    .dataframe thead th {\n",
       "        text-align: right;\n",
       "    }\n",
       "</style>\n",
       "<table border=\"1\" class=\"dataframe\">\n",
       "  <thead>\n",
       "    <tr style=\"text-align: right;\">\n",
       "      <th></th>\n",
       "      <th>Grain</th>\n",
       "      <th>Year</th>\n",
       "      <th>city</th>\n",
       "      <th>yield</th>\n",
       "    </tr>\n",
       "  </thead>\n",
       "  <tbody>\n",
       "    <tr>\n",
       "      <th>2558975</th>\n",
       "      <td>Pea</td>\n",
       "      <td>2017</td>\n",
       "      <td>Brasília (DF)</td>\n",
       "      <td>7.0</td>\n",
       "    </tr>\n",
       "    <tr>\n",
       "      <th>2558976</th>\n",
       "      <td>Barley</td>\n",
       "      <td>2018</td>\n",
       "      <td>Brasília (DF)</td>\n",
       "      <td>4.5</td>\n",
       "    </tr>\n",
       "    <tr>\n",
       "      <th>2558977</th>\n",
       "      <td>Pea</td>\n",
       "      <td>2018</td>\n",
       "      <td>Brasília (DF)</td>\n",
       "      <td>7.0</td>\n",
       "    </tr>\n",
       "    <tr>\n",
       "      <th>2558978</th>\n",
       "      <td>Barley</td>\n",
       "      <td>2019</td>\n",
       "      <td>Brasília (DF)</td>\n",
       "      <td>4.5</td>\n",
       "    </tr>\n",
       "    <tr>\n",
       "      <th>2558979</th>\n",
       "      <td>Pea</td>\n",
       "      <td>2019</td>\n",
       "      <td>Brasília (DF)</td>\n",
       "      <td>7.0</td>\n",
       "    </tr>\n",
       "  </tbody>\n",
       "</table>\n",
       "</div>"
      ],
      "text/plain": [
       "          Grain  Year           city  yield\n",
       "2558975     Pea  2017  Brasília (DF)    7.0\n",
       "2558976  Barley  2018  Brasília (DF)    4.5\n",
       "2558977     Pea  2018  Brasília (DF)    7.0\n",
       "2558978  Barley  2019  Brasília (DF)    4.5\n",
       "2558979     Pea  2019  Brasília (DF)    7.0"
      ]
     },
     "execution_count": 175,
     "metadata": {},
     "output_type": "execute_result"
    }
   ],
   "source": [
    "df_yield.tail()"
   ]
  },
  {
   "cell_type": "markdown",
   "id": "cf30198e",
   "metadata": {},
   "source": [
    "### Lendo dados sobre produção"
   ]
  },
  {
   "cell_type": "code",
   "execution_count": 198,
   "id": "bffcef34",
   "metadata": {},
   "outputs": [],
   "source": [
    "df_production = pd.read_csv(\n",
    "    filepath_or_buffer='data/raw/grains/production.csv',\n",
    "    sep=',',\n",
    "    index_col=0\n",
    ")"
   ]
  },
  {
   "cell_type": "markdown",
   "id": "bd32c61c",
   "metadata": {},
   "source": [
    "Transformando tabela de tipo largo para longo"
   ]
  },
  {
   "cell_type": "code",
   "execution_count": 199,
   "id": "3930b763",
   "metadata": {},
   "outputs": [],
   "source": [
    "df_production = pd.melt(\n",
    "    frame=df_production,\n",
    "    id_vars=['Grain', 'Year'],\n",
    "    var_name='city',\n",
    "    value_name='production'\n",
    ")"
   ]
  },
  {
   "cell_type": "markdown",
   "id": "11c78e02",
   "metadata": {},
   "source": [
    "Visualizando dados"
   ]
  },
  {
   "cell_type": "code",
   "execution_count": 210,
   "id": "33eda6b9",
   "metadata": {},
   "outputs": [
    {
     "data": {
      "text/html": [
       "<div>\n",
       "<style scoped>\n",
       "    .dataframe tbody tr th:only-of-type {\n",
       "        vertical-align: middle;\n",
       "    }\n",
       "\n",
       "    .dataframe tbody tr th {\n",
       "        vertical-align: top;\n",
       "    }\n",
       "\n",
       "    .dataframe thead th {\n",
       "        text-align: right;\n",
       "    }\n",
       "</style>\n",
       "<table border=\"1\" class=\"dataframe\">\n",
       "  <thead>\n",
       "    <tr style=\"text-align: right;\">\n",
       "      <th></th>\n",
       "      <th>Grain</th>\n",
       "      <th>Year</th>\n",
       "      <th>city</th>\n",
       "      <th>production</th>\n",
       "    </tr>\n",
       "  </thead>\n",
       "  <tbody>\n",
       "    <tr>\n",
       "      <th>2558975</th>\n",
       "      <td>Pea</td>\n",
       "      <td>2017</td>\n",
       "      <td>Brasília (DF)</td>\n",
       "      <td>7.0</td>\n",
       "    </tr>\n",
       "    <tr>\n",
       "      <th>2558976</th>\n",
       "      <td>Barley</td>\n",
       "      <td>2018</td>\n",
       "      <td>Brasília (DF)</td>\n",
       "      <td>4.5</td>\n",
       "    </tr>\n",
       "    <tr>\n",
       "      <th>2558977</th>\n",
       "      <td>Pea</td>\n",
       "      <td>2018</td>\n",
       "      <td>Brasília (DF)</td>\n",
       "      <td>7.0</td>\n",
       "    </tr>\n",
       "    <tr>\n",
       "      <th>2558978</th>\n",
       "      <td>Barley</td>\n",
       "      <td>2019</td>\n",
       "      <td>Brasília (DF)</td>\n",
       "      <td>4.5</td>\n",
       "    </tr>\n",
       "    <tr>\n",
       "      <th>2558979</th>\n",
       "      <td>Pea</td>\n",
       "      <td>2019</td>\n",
       "      <td>Brasília (DF)</td>\n",
       "      <td>7.0</td>\n",
       "    </tr>\n",
       "  </tbody>\n",
       "</table>\n",
       "</div>"
      ],
      "text/plain": [
       "          Grain  Year           city  production\n",
       "2558975     Pea  2017  Brasília (DF)         7.0\n",
       "2558976  Barley  2018  Brasília (DF)         4.5\n",
       "2558977     Pea  2018  Brasília (DF)         7.0\n",
       "2558978  Barley  2019  Brasília (DF)         4.5\n",
       "2558979     Pea  2019  Brasília (DF)         7.0"
      ]
     },
     "execution_count": 210,
     "metadata": {},
     "output_type": "execute_result"
    }
   ],
   "source": [
    "df_production.tail()"
   ]
  },
  {
   "cell_type": "markdown",
   "id": "dbb5d03d",
   "metadata": {},
   "source": [
    "### Realizando cruzamento dos dados"
   ]
  },
  {
   "cell_type": "markdown",
   "id": "171b26dd",
   "metadata": {},
   "source": [
    "Comparando se dados sobre produção e produtividade são diferentes"
   ]
  },
  {
   "cell_type": "code",
   "execution_count": 179,
   "id": "91d30490",
   "metadata": {},
   "outputs": [
    {
     "data": {
      "text/plain": [
       "True"
      ]
     },
     "execution_count": 179,
     "metadata": {},
     "output_type": "execute_result"
    }
   ],
   "source": [
    "df_production['production'].equals(df_yield['yield'])"
   ]
  },
  {
   "cell_type": "markdown",
   "id": "8ff84295",
   "metadata": {},
   "source": [
    "Neste dataset não são, logo podemos ficar com apenas um destes"
   ]
  },
  {
   "cell_type": "markdown",
   "id": "ef7062c3",
   "metadata": {},
   "source": [
    "Realizando mesca entre dados de plantio, colheita e produção"
   ]
  },
  {
   "cell_type": "code",
   "execution_count": 190,
   "id": "92150205",
   "metadata": {},
   "outputs": [],
   "source": [
    "df_plantation = pd.merge(\n",
    "    left=df_harvested_area,\n",
    "    right=df_planted_area,\n",
    "    how='inner',\n",
    "    on=['Grain', 'Year', 'city']\n",
    ")\n",
    "\n",
    "df_plantation = pd.merge(\n",
    "    left=df_plantation,\n",
    "    right=df_production,\n",
    "    how='left',\n",
    "    on=['Grain', 'Year', 'city']\n",
    ")"
   ]
  },
  {
   "cell_type": "markdown",
   "id": "325f382a",
   "metadata": {},
   "source": [
    "Extraindo unidade federativa do nome da cidade"
   ]
  },
  {
   "cell_type": "code",
   "execution_count": 191,
   "id": "25eeac25",
   "metadata": {},
   "outputs": [],
   "source": [
    "df_plantation['state'] = df_plantation['city'].str.extract(r'\\((\\w{2})\\)')"
   ]
  },
  {
   "cell_type": "markdown",
   "id": "3821d0d4",
   "metadata": {},
   "source": [
    "Removendo informação de unidade federativa da coluna de cidade"
   ]
  },
  {
   "cell_type": "code",
   "execution_count": 192,
   "id": "ffad477b",
   "metadata": {},
   "outputs": [],
   "source": [
    "df_plantation['city'] = df_plantation['city'].str.replace(r'\\(\\w{2}\\)', '', regex=True)\n",
    "df_plantation['city'] = df_plantation['city'].str.strip()"
   ]
  },
  {
   "cell_type": "markdown",
   "id": "dc20d4f9",
   "metadata": {},
   "source": [
    "Criando coluna com as regiões do brazil"
   ]
  },
  {
   "cell_type": "code",
   "execution_count": 202,
   "id": "df1a87f9",
   "metadata": {},
   "outputs": [],
   "source": [
    "brazil_regions = {\n",
    "    'North': ['RO', 'AC', 'AM', 'RR', 'PA', 'AP', 'TO'],\n",
    "    'Northeast': ['MA', 'PI', 'CE', 'RN', 'PB', 'PE', 'AL', 'SE', 'BA'],\n",
    "    'Midwest': ['MT', 'MS', 'GO', 'DF'],\n",
    "    'Southeast': ['MG', 'ES', 'RJ', 'SP'],\n",
    "    'South': ['PR', 'SC', 'RS']\n",
    "}\n",
    "\n",
    "state_to_region = {state: region for region, states in brazil_regions.items() for state in states}\n",
    "\n",
    "df_plantation['region'] = df_plantation['state'].map(state_to_region)"
   ]
  },
  {
   "cell_type": "markdown",
   "id": "3fa2cfb6",
   "metadata": {},
   "source": [
    "Criando chave artificial"
   ]
  },
  {
   "cell_type": "code",
   "execution_count": 203,
   "id": "97357b14",
   "metadata": {},
   "outputs": [],
   "source": [
    "df_plantation['artificial_key'] = (\n",
    "    df_plantation['state']\n",
    "    + df_plantation['city']\n",
    "    + df_plantation['Grain']\n",
    "    + df_plantation['Year'].astype(str)\n",
    ").map(lambda x: sha1(x.encode('utf-8')).hexdigest())"
   ]
  },
  {
   "cell_type": "markdown",
   "id": "0602a1bf",
   "metadata": {},
   "source": [
    "Alterando nome de todas as colunas para _lower case_"
   ]
  },
  {
   "cell_type": "code",
   "execution_count": 204,
   "id": "4b68b257",
   "metadata": {},
   "outputs": [],
   "source": [
    "df_plantation.columns = df_plantation.columns.map(lambda column: column.lower())"
   ]
  },
  {
   "cell_type": "markdown",
   "id": "073689a1",
   "metadata": {},
   "source": [
    "Alterando tipos das colunas"
   ]
  },
  {
   "cell_type": "code",
   "execution_count": 206,
   "id": "4e7224a9",
   "metadata": {},
   "outputs": [],
   "source": [
    "df_plantation = df_plantation.astype({\n",
    "    'artificial_key': str,\n",
    "    'region': str,\n",
    "    'state': str,\n",
    "    'city': str,\n",
    "    'grain': str,\n",
    "    'year': pd.UInt16Dtype(),\n",
    "    'planted_area': pd.UInt64Dtype(),\n",
    "    'harvested_area': pd.UInt64Dtype(),\n",
    "    'production': pd.Float64Dtype(),\n",
    "})"
   ]
  },
  {
   "cell_type": "markdown",
   "id": "5e3d5b91",
   "metadata": {},
   "source": [
    "Alterando ordem das colunas"
   ]
  },
  {
   "cell_type": "code",
   "execution_count": 211,
   "id": "48be1306",
   "metadata": {},
   "outputs": [],
   "source": [
    "df_plantation = df_plantation.loc[:, ['artificial_key', 'region', 'state', 'city', 'grain', 'year', 'planted_area', 'harvested_area', 'production']]"
   ]
  },
  {
   "cell_type": "markdown",
   "id": "6656ed8c",
   "metadata": {},
   "source": [
    "Configurando novo índice para tabela"
   ]
  },
  {
   "cell_type": "code",
   "execution_count": 213,
   "id": "2bbace66",
   "metadata": {},
   "outputs": [],
   "source": [
    "df_plantation.set_index('artificial_key', inplace=True)"
   ]
  },
  {
   "cell_type": "markdown",
   "id": "8e8f361a",
   "metadata": {},
   "source": [
    "Visualizando dados"
   ]
  },
  {
   "cell_type": "code",
   "execution_count": 221,
   "id": "f74c2ef8",
   "metadata": {},
   "outputs": [
    {
     "data": {
      "text/html": [
       "<div>\n",
       "<style scoped>\n",
       "    .dataframe tbody tr th:only-of-type {\n",
       "        vertical-align: middle;\n",
       "    }\n",
       "\n",
       "    .dataframe tbody tr th {\n",
       "        vertical-align: top;\n",
       "    }\n",
       "\n",
       "    .dataframe thead th {\n",
       "        text-align: right;\n",
       "    }\n",
       "</style>\n",
       "<table border=\"1\" class=\"dataframe\">\n",
       "  <thead>\n",
       "    <tr style=\"text-align: right;\">\n",
       "      <th></th>\n",
       "      <th>region</th>\n",
       "      <th>state</th>\n",
       "      <th>city</th>\n",
       "      <th>grain</th>\n",
       "      <th>year</th>\n",
       "      <th>planted_area</th>\n",
       "      <th>harvested_area</th>\n",
       "      <th>production</th>\n",
       "    </tr>\n",
       "    <tr>\n",
       "      <th>artificial_key</th>\n",
       "      <th></th>\n",
       "      <th></th>\n",
       "      <th></th>\n",
       "      <th></th>\n",
       "      <th></th>\n",
       "      <th></th>\n",
       "      <th></th>\n",
       "      <th></th>\n",
       "    </tr>\n",
       "  </thead>\n",
       "  <tbody>\n",
       "    <tr>\n",
       "      <th>f45ad7729c422c093bfbf0fb1f99f8c6ce6dbbf6</th>\n",
       "      <td>Midwest</td>\n",
       "      <td>DF</td>\n",
       "      <td>Brasília</td>\n",
       "      <td>Pea</td>\n",
       "      <td>2017</td>\n",
       "      <td>32</td>\n",
       "      <td>32</td>\n",
       "      <td>7.0</td>\n",
       "    </tr>\n",
       "    <tr>\n",
       "      <th>9a0f47a14c2e92a914b7b6e0d264ed576667edff</th>\n",
       "      <td>Midwest</td>\n",
       "      <td>DF</td>\n",
       "      <td>Brasília</td>\n",
       "      <td>Barley</td>\n",
       "      <td>2018</td>\n",
       "      <td>100</td>\n",
       "      <td>100</td>\n",
       "      <td>4.5</td>\n",
       "    </tr>\n",
       "    <tr>\n",
       "      <th>806f31b6182bbc90bb5e1d6d5196dc670359d217</th>\n",
       "      <td>Midwest</td>\n",
       "      <td>DF</td>\n",
       "      <td>Brasília</td>\n",
       "      <td>Pea</td>\n",
       "      <td>2018</td>\n",
       "      <td>40</td>\n",
       "      <td>40</td>\n",
       "      <td>7.0</td>\n",
       "    </tr>\n",
       "    <tr>\n",
       "      <th>baf47bd13e9014dd74b727e08ca13223252f4ce0</th>\n",
       "      <td>Midwest</td>\n",
       "      <td>DF</td>\n",
       "      <td>Brasília</td>\n",
       "      <td>Barley</td>\n",
       "      <td>2019</td>\n",
       "      <td>100</td>\n",
       "      <td>70</td>\n",
       "      <td>4.5</td>\n",
       "    </tr>\n",
       "    <tr>\n",
       "      <th>2ec357c46a3bb717daea073782baa6b42278d772</th>\n",
       "      <td>Midwest</td>\n",
       "      <td>DF</td>\n",
       "      <td>Brasília</td>\n",
       "      <td>Pea</td>\n",
       "      <td>2019</td>\n",
       "      <td>40</td>\n",
       "      <td>40</td>\n",
       "      <td>7.0</td>\n",
       "    </tr>\n",
       "  </tbody>\n",
       "</table>\n",
       "</div>"
      ],
      "text/plain": [
       "                                           region state      city   grain  \\\n",
       "artificial_key                                                              \n",
       "f45ad7729c422c093bfbf0fb1f99f8c6ce6dbbf6  Midwest    DF  Brasília     Pea   \n",
       "9a0f47a14c2e92a914b7b6e0d264ed576667edff  Midwest    DF  Brasília  Barley   \n",
       "806f31b6182bbc90bb5e1d6d5196dc670359d217  Midwest    DF  Brasília     Pea   \n",
       "baf47bd13e9014dd74b727e08ca13223252f4ce0  Midwest    DF  Brasília  Barley   \n",
       "2ec357c46a3bb717daea073782baa6b42278d772  Midwest    DF  Brasília     Pea   \n",
       "\n",
       "                                          year  planted_area  harvested_area  \\\n",
       "artificial_key                                                                 \n",
       "f45ad7729c422c093bfbf0fb1f99f8c6ce6dbbf6  2017            32              32   \n",
       "9a0f47a14c2e92a914b7b6e0d264ed576667edff  2018           100             100   \n",
       "806f31b6182bbc90bb5e1d6d5196dc670359d217  2018            40              40   \n",
       "baf47bd13e9014dd74b727e08ca13223252f4ce0  2019           100              70   \n",
       "2ec357c46a3bb717daea073782baa6b42278d772  2019            40              40   \n",
       "\n",
       "                                          production  \n",
       "artificial_key                                        \n",
       "f45ad7729c422c093bfbf0fb1f99f8c6ce6dbbf6         7.0  \n",
       "9a0f47a14c2e92a914b7b6e0d264ed576667edff         4.5  \n",
       "806f31b6182bbc90bb5e1d6d5196dc670359d217         7.0  \n",
       "baf47bd13e9014dd74b727e08ca13223252f4ce0         4.5  \n",
       "2ec357c46a3bb717daea073782baa6b42278d772         7.0  "
      ]
     },
     "execution_count": 221,
     "metadata": {},
     "output_type": "execute_result"
    }
   ],
   "source": [
    "df_plantation.tail()"
   ]
  },
  {
   "cell_type": "markdown",
   "id": "4b1a3384",
   "metadata": {},
   "source": [
    "Salvando dados em formato .parquet particioando por ano"
   ]
  },
  {
   "cell_type": "code",
   "execution_count": 232,
   "id": "ce9cbe2e",
   "metadata": {},
   "outputs": [],
   "source": [
    "df_plantation.to_parquet(\n",
    "    path='data/trusted/grains/plantation',\n",
    "    engine='pyarrow',\n",
    "    index=True,\n",
    "    compression='snappy',\n",
    "    partition_cols=['year']\n",
    ")"
   ]
  },
  {
   "cell_type": "code",
   "execution_count": null,
   "id": "6ce8c868",
   "metadata": {},
   "outputs": [],
   "source": []
  }
 ],
 "metadata": {
  "kernelspec": {
   "display_name": "sklearn-env",
   "language": "python",
   "name": "python3"
  },
  "language_info": {
   "codemirror_mode": {
    "name": "ipython",
    "version": 3
   },
   "file_extension": ".py",
   "mimetype": "text/x-python",
   "name": "python",
   "nbconvert_exporter": "python",
   "pygments_lexer": "ipython3",
   "version": "3.12.5"
  }
 },
 "nbformat": 4,
 "nbformat_minor": 5
}
