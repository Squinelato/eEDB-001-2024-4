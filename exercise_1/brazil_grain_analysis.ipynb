{
 "cells": [
  {
   "cell_type": "markdown",
   "id": "01263385-2799-4dab-b4a7-b982ba897648",
   "metadata": {},
   "source": [
    "# Exercício 1\n",
    "## Demanda do Especialista do Ministério da Agricultura\n",
    "- Avaliação do Impacto de Fatores Climáticos na Produção Agrícola\n",
    "\n",
    "\n",
    "---"
   ]
  },
  {
   "cell_type": "markdown",
   "id": "cf5b6ecc-b177-4f99-98d1-645c512e2a0f",
   "metadata": {},
   "source": [
    "Importando bibliotevas necessárias"
   ]
  },
  {
   "cell_type": "code",
   "execution_count": 1,
   "id": "aa70ef2e-ccc5-47d3-b9f8-1599a6f8d559",
   "metadata": {},
   "outputs": [],
   "source": [
    "import pandas as pd\n",
    "from hashlib import sha1\n",
    "import os"
   ]
  },
  {
   "cell_type": "markdown",
   "id": "db4cca34",
   "metadata": {},
   "source": [
    "## Dados sobre Grãos"
   ]
  },
  {
   "cell_type": "markdown",
   "id": "764cc0cd-578d-47da-8121-8a880abca735",
   "metadata": {},
   "source": [
    "### Lendo dados sobre área plantada"
   ]
  },
  {
   "cell_type": "code",
   "execution_count": 167,
   "id": "7b875442-c4a8-459e-81ff-62122a6aacc5",
   "metadata": {},
   "outputs": [],
   "source": [
    "df_planted_area = pd.read_csv(\n",
    "    filepath_or_buffer='data/raw/grains/planted_area.csv',\n",
    "    sep=',',\n",
    "    index_col=0,\n",
    ")"
   ]
  },
  {
   "cell_type": "markdown",
   "id": "0bdd767b",
   "metadata": {},
   "source": [
    "Transformando tabela de tipo largo para longo"
   ]
  },
  {
   "cell_type": "code",
   "execution_count": 168,
   "id": "fca3df0c-6118-4bd0-b217-86ff078d3a98",
   "metadata": {},
   "outputs": [],
   "source": [
    "df_planted_area = pd.melt(\n",
    "    frame=df_planted_area,\n",
    "    id_vars=['Grain', 'Year'],\n",
    "    var_name='city',\n",
    "    value_name='planted_area'\n",
    ")"
   ]
  },
  {
   "cell_type": "markdown",
   "id": "6d345a0a",
   "metadata": {},
   "source": [
    "Visualizando dados"
   ]
  },
  {
   "cell_type": "code",
   "execution_count": 169,
   "id": "bd84784b",
   "metadata": {},
   "outputs": [
    {
     "data": {
      "text/html": [
       "<div>\n",
       "<style scoped>\n",
       "    .dataframe tbody tr th:only-of-type {\n",
       "        vertical-align: middle;\n",
       "    }\n",
       "\n",
       "    .dataframe tbody tr th {\n",
       "        vertical-align: top;\n",
       "    }\n",
       "\n",
       "    .dataframe thead th {\n",
       "        text-align: right;\n",
       "    }\n",
       "</style>\n",
       "<table border=\"1\" class=\"dataframe\">\n",
       "  <thead>\n",
       "    <tr style=\"text-align: right;\">\n",
       "      <th></th>\n",
       "      <th>Grain</th>\n",
       "      <th>Year</th>\n",
       "      <th>city</th>\n",
       "      <th>planted_area</th>\n",
       "    </tr>\n",
       "  </thead>\n",
       "  <tbody>\n",
       "    <tr>\n",
       "      <th>2558975</th>\n",
       "      <td>Pea</td>\n",
       "      <td>2017</td>\n",
       "      <td>Brasília (DF)</td>\n",
       "      <td>32.0</td>\n",
       "    </tr>\n",
       "    <tr>\n",
       "      <th>2558976</th>\n",
       "      <td>Barley</td>\n",
       "      <td>2018</td>\n",
       "      <td>Brasília (DF)</td>\n",
       "      <td>100.0</td>\n",
       "    </tr>\n",
       "    <tr>\n",
       "      <th>2558977</th>\n",
       "      <td>Pea</td>\n",
       "      <td>2018</td>\n",
       "      <td>Brasília (DF)</td>\n",
       "      <td>40.0</td>\n",
       "    </tr>\n",
       "    <tr>\n",
       "      <th>2558978</th>\n",
       "      <td>Barley</td>\n",
       "      <td>2019</td>\n",
       "      <td>Brasília (DF)</td>\n",
       "      <td>100.0</td>\n",
       "    </tr>\n",
       "    <tr>\n",
       "      <th>2558979</th>\n",
       "      <td>Pea</td>\n",
       "      <td>2019</td>\n",
       "      <td>Brasília (DF)</td>\n",
       "      <td>40.0</td>\n",
       "    </tr>\n",
       "  </tbody>\n",
       "</table>\n",
       "</div>"
      ],
      "text/plain": [
       "          Grain  Year           city  planted_area\n",
       "2558975     Pea  2017  Brasília (DF)          32.0\n",
       "2558976  Barley  2018  Brasília (DF)         100.0\n",
       "2558977     Pea  2018  Brasília (DF)          40.0\n",
       "2558978  Barley  2019  Brasília (DF)         100.0\n",
       "2558979     Pea  2019  Brasília (DF)          40.0"
      ]
     },
     "execution_count": 169,
     "metadata": {},
     "output_type": "execute_result"
    }
   ],
   "source": [
    "df_planted_area.tail()"
   ]
  },
  {
   "cell_type": "markdown",
   "id": "96eeb537",
   "metadata": {},
   "source": [
    "### Lendo dados sobre área colhida"
   ]
  },
  {
   "cell_type": "code",
   "execution_count": 170,
   "id": "011048a1",
   "metadata": {},
   "outputs": [],
   "source": [
    "df_harvested_area = pd.read_csv(\n",
    "    filepath_or_buffer='data/raw/grains/harvested_area.csv',\n",
    "    sep=',',\n",
    "    index_col=0,\n",
    ")"
   ]
  },
  {
   "cell_type": "markdown",
   "id": "7bafab6e",
   "metadata": {},
   "source": [
    "Transformando tabela de tipo largo para longo"
   ]
  },
  {
   "cell_type": "code",
   "execution_count": 171,
   "id": "d23b1b1f",
   "metadata": {},
   "outputs": [],
   "source": [
    "df_harvested_area = pd.melt(\n",
    "    frame=df_harvested_area,\n",
    "    id_vars=['Grain', 'Year'],\n",
    "    var_name='city',\n",
    "    value_name='harvested_area'\n",
    ")"
   ]
  },
  {
   "cell_type": "markdown",
   "id": "034f706b",
   "metadata": {},
   "source": [
    "Visualizando dados"
   ]
  },
  {
   "cell_type": "code",
   "execution_count": 172,
   "id": "faad9ff0",
   "metadata": {},
   "outputs": [
    {
     "data": {
      "text/html": [
       "<div>\n",
       "<style scoped>\n",
       "    .dataframe tbody tr th:only-of-type {\n",
       "        vertical-align: middle;\n",
       "    }\n",
       "\n",
       "    .dataframe tbody tr th {\n",
       "        vertical-align: top;\n",
       "    }\n",
       "\n",
       "    .dataframe thead th {\n",
       "        text-align: right;\n",
       "    }\n",
       "</style>\n",
       "<table border=\"1\" class=\"dataframe\">\n",
       "  <thead>\n",
       "    <tr style=\"text-align: right;\">\n",
       "      <th></th>\n",
       "      <th>Grain</th>\n",
       "      <th>Year</th>\n",
       "      <th>city</th>\n",
       "      <th>harvested_area</th>\n",
       "    </tr>\n",
       "  </thead>\n",
       "  <tbody>\n",
       "    <tr>\n",
       "      <th>2558975</th>\n",
       "      <td>Pea</td>\n",
       "      <td>2017</td>\n",
       "      <td>Brasília (DF)</td>\n",
       "      <td>32.0</td>\n",
       "    </tr>\n",
       "    <tr>\n",
       "      <th>2558976</th>\n",
       "      <td>Barley</td>\n",
       "      <td>2018</td>\n",
       "      <td>Brasília (DF)</td>\n",
       "      <td>100.0</td>\n",
       "    </tr>\n",
       "    <tr>\n",
       "      <th>2558977</th>\n",
       "      <td>Pea</td>\n",
       "      <td>2018</td>\n",
       "      <td>Brasília (DF)</td>\n",
       "      <td>40.0</td>\n",
       "    </tr>\n",
       "    <tr>\n",
       "      <th>2558978</th>\n",
       "      <td>Barley</td>\n",
       "      <td>2019</td>\n",
       "      <td>Brasília (DF)</td>\n",
       "      <td>70.0</td>\n",
       "    </tr>\n",
       "    <tr>\n",
       "      <th>2558979</th>\n",
       "      <td>Pea</td>\n",
       "      <td>2019</td>\n",
       "      <td>Brasília (DF)</td>\n",
       "      <td>40.0</td>\n",
       "    </tr>\n",
       "  </tbody>\n",
       "</table>\n",
       "</div>"
      ],
      "text/plain": [
       "          Grain  Year           city  harvested_area\n",
       "2558975     Pea  2017  Brasília (DF)            32.0\n",
       "2558976  Barley  2018  Brasília (DF)           100.0\n",
       "2558977     Pea  2018  Brasília (DF)            40.0\n",
       "2558978  Barley  2019  Brasília (DF)            70.0\n",
       "2558979     Pea  2019  Brasília (DF)            40.0"
      ]
     },
     "execution_count": 172,
     "metadata": {},
     "output_type": "execute_result"
    }
   ],
   "source": [
    "df_harvested_area.tail()"
   ]
  },
  {
   "cell_type": "markdown",
   "id": "a315c805",
   "metadata": {},
   "source": [
    "### Lendo dados sobre produtividade"
   ]
  },
  {
   "cell_type": "code",
   "execution_count": 173,
   "id": "7fc566f8",
   "metadata": {},
   "outputs": [],
   "source": [
    "df_yield = pd.read_csv(\n",
    "    filepath_or_buffer='data/raw/grains/yield.csv',\n",
    "    sep=',',\n",
    "    index_col=0,\n",
    ")"
   ]
  },
  {
   "cell_type": "markdown",
   "id": "601c454c",
   "metadata": {},
   "source": [
    "Transformando tabela de tipo largo para longo"
   ]
  },
  {
   "cell_type": "code",
   "execution_count": 174,
   "id": "9eefc849",
   "metadata": {},
   "outputs": [],
   "source": [
    "df_yield = pd.melt(\n",
    "    frame=df_yield,\n",
    "    id_vars=['Grain', 'Year'],\n",
    "    var_name='city',\n",
    "    value_name='yield'\n",
    ")"
   ]
  },
  {
   "cell_type": "markdown",
   "id": "d3ce429d",
   "metadata": {},
   "source": [
    "Visualizando dados"
   ]
  },
  {
   "cell_type": "code",
   "execution_count": 175,
   "id": "93ec92fb",
   "metadata": {},
   "outputs": [
    {
     "data": {
      "text/html": [
       "<div>\n",
       "<style scoped>\n",
       "    .dataframe tbody tr th:only-of-type {\n",
       "        vertical-align: middle;\n",
       "    }\n",
       "\n",
       "    .dataframe tbody tr th {\n",
       "        vertical-align: top;\n",
       "    }\n",
       "\n",
       "    .dataframe thead th {\n",
       "        text-align: right;\n",
       "    }\n",
       "</style>\n",
       "<table border=\"1\" class=\"dataframe\">\n",
       "  <thead>\n",
       "    <tr style=\"text-align: right;\">\n",
       "      <th></th>\n",
       "      <th>Grain</th>\n",
       "      <th>Year</th>\n",
       "      <th>city</th>\n",
       "      <th>yield</th>\n",
       "    </tr>\n",
       "  </thead>\n",
       "  <tbody>\n",
       "    <tr>\n",
       "      <th>2558975</th>\n",
       "      <td>Pea</td>\n",
       "      <td>2017</td>\n",
       "      <td>Brasília (DF)</td>\n",
       "      <td>7.0</td>\n",
       "    </tr>\n",
       "    <tr>\n",
       "      <th>2558976</th>\n",
       "      <td>Barley</td>\n",
       "      <td>2018</td>\n",
       "      <td>Brasília (DF)</td>\n",
       "      <td>4.5</td>\n",
       "    </tr>\n",
       "    <tr>\n",
       "      <th>2558977</th>\n",
       "      <td>Pea</td>\n",
       "      <td>2018</td>\n",
       "      <td>Brasília (DF)</td>\n",
       "      <td>7.0</td>\n",
       "    </tr>\n",
       "    <tr>\n",
       "      <th>2558978</th>\n",
       "      <td>Barley</td>\n",
       "      <td>2019</td>\n",
       "      <td>Brasília (DF)</td>\n",
       "      <td>4.5</td>\n",
       "    </tr>\n",
       "    <tr>\n",
       "      <th>2558979</th>\n",
       "      <td>Pea</td>\n",
       "      <td>2019</td>\n",
       "      <td>Brasília (DF)</td>\n",
       "      <td>7.0</td>\n",
       "    </tr>\n",
       "  </tbody>\n",
       "</table>\n",
       "</div>"
      ],
      "text/plain": [
       "          Grain  Year           city  yield\n",
       "2558975     Pea  2017  Brasília (DF)    7.0\n",
       "2558976  Barley  2018  Brasília (DF)    4.5\n",
       "2558977     Pea  2018  Brasília (DF)    7.0\n",
       "2558978  Barley  2019  Brasília (DF)    4.5\n",
       "2558979     Pea  2019  Brasília (DF)    7.0"
      ]
     },
     "execution_count": 175,
     "metadata": {},
     "output_type": "execute_result"
    }
   ],
   "source": [
    "df_yield.tail()"
   ]
  },
  {
   "cell_type": "markdown",
   "id": "cf30198e",
   "metadata": {},
   "source": [
    "### Lendo dados sobre produção"
   ]
  },
  {
   "cell_type": "code",
   "execution_count": 198,
   "id": "bffcef34",
   "metadata": {},
   "outputs": [],
   "source": [
    "df_production = pd.read_csv(\n",
    "    filepath_or_buffer='data/raw/grains/production.csv',\n",
    "    sep=',',\n",
    "    index_col=0\n",
    ")"
   ]
  },
  {
   "cell_type": "markdown",
   "id": "bd32c61c",
   "metadata": {},
   "source": [
    "Transformando tabela de tipo largo para longo"
   ]
  },
  {
   "cell_type": "code",
   "execution_count": 199,
   "id": "3930b763",
   "metadata": {},
   "outputs": [],
   "source": [
    "df_production = pd.melt(\n",
    "    frame=df_production,\n",
    "    id_vars=['Grain', 'Year'],\n",
    "    var_name='city',\n",
    "    value_name='production'\n",
    ")"
   ]
  },
  {
   "cell_type": "markdown",
   "id": "11c78e02",
   "metadata": {},
   "source": [
    "Visualizando dados"
   ]
  },
  {
   "cell_type": "code",
   "execution_count": 210,
   "id": "33eda6b9",
   "metadata": {},
   "outputs": [
    {
     "data": {
      "text/html": [
       "<div>\n",
       "<style scoped>\n",
       "    .dataframe tbody tr th:only-of-type {\n",
       "        vertical-align: middle;\n",
       "    }\n",
       "\n",
       "    .dataframe tbody tr th {\n",
       "        vertical-align: top;\n",
       "    }\n",
       "\n",
       "    .dataframe thead th {\n",
       "        text-align: right;\n",
       "    }\n",
       "</style>\n",
       "<table border=\"1\" class=\"dataframe\">\n",
       "  <thead>\n",
       "    <tr style=\"text-align: right;\">\n",
       "      <th></th>\n",
       "      <th>Grain</th>\n",
       "      <th>Year</th>\n",
       "      <th>city</th>\n",
       "      <th>production</th>\n",
       "    </tr>\n",
       "  </thead>\n",
       "  <tbody>\n",
       "    <tr>\n",
       "      <th>2558975</th>\n",
       "      <td>Pea</td>\n",
       "      <td>2017</td>\n",
       "      <td>Brasília (DF)</td>\n",
       "      <td>7.0</td>\n",
       "    </tr>\n",
       "    <tr>\n",
       "      <th>2558976</th>\n",
       "      <td>Barley</td>\n",
       "      <td>2018</td>\n",
       "      <td>Brasília (DF)</td>\n",
       "      <td>4.5</td>\n",
       "    </tr>\n",
       "    <tr>\n",
       "      <th>2558977</th>\n",
       "      <td>Pea</td>\n",
       "      <td>2018</td>\n",
       "      <td>Brasília (DF)</td>\n",
       "      <td>7.0</td>\n",
       "    </tr>\n",
       "    <tr>\n",
       "      <th>2558978</th>\n",
       "      <td>Barley</td>\n",
       "      <td>2019</td>\n",
       "      <td>Brasília (DF)</td>\n",
       "      <td>4.5</td>\n",
       "    </tr>\n",
       "    <tr>\n",
       "      <th>2558979</th>\n",
       "      <td>Pea</td>\n",
       "      <td>2019</td>\n",
       "      <td>Brasília (DF)</td>\n",
       "      <td>7.0</td>\n",
       "    </tr>\n",
       "  </tbody>\n",
       "</table>\n",
       "</div>"
      ],
      "text/plain": [
       "          Grain  Year           city  production\n",
       "2558975     Pea  2017  Brasília (DF)         7.0\n",
       "2558976  Barley  2018  Brasília (DF)         4.5\n",
       "2558977     Pea  2018  Brasília (DF)         7.0\n",
       "2558978  Barley  2019  Brasília (DF)         4.5\n",
       "2558979     Pea  2019  Brasília (DF)         7.0"
      ]
     },
     "execution_count": 210,
     "metadata": {},
     "output_type": "execute_result"
    }
   ],
   "source": [
    "df_production.tail()"
   ]
  },
  {
   "cell_type": "markdown",
   "id": "dbb5d03d",
   "metadata": {},
   "source": [
    "### Realizando cruzamento dos dados"
   ]
  },
  {
   "cell_type": "markdown",
   "id": "171b26dd",
   "metadata": {},
   "source": [
    "Comparando se dados sobre produção e produtividade são diferentes"
   ]
  },
  {
   "cell_type": "code",
   "execution_count": 179,
   "id": "91d30490",
   "metadata": {},
   "outputs": [
    {
     "data": {
      "text/plain": [
       "True"
      ]
     },
     "execution_count": 179,
     "metadata": {},
     "output_type": "execute_result"
    }
   ],
   "source": [
    "df_production['production'].equals(df_yield['yield'])"
   ]
  },
  {
   "cell_type": "markdown",
   "id": "8ff84295",
   "metadata": {},
   "source": [
    "Neste dataset não são, logo podemos ficar com apenas um destes"
   ]
  },
  {
   "cell_type": "markdown",
   "id": "ef7062c3",
   "metadata": {},
   "source": [
    "Realizando mesca entre dados de plantio, colheita e produção"
   ]
  },
  {
   "cell_type": "code",
   "execution_count": 190,
   "id": "92150205",
   "metadata": {},
   "outputs": [],
   "source": [
    "df_plantation = pd.merge(\n",
    "    left=df_harvested_area,\n",
    "    right=df_planted_area,\n",
    "    how='inner',\n",
    "    on=['Grain', 'Year', 'city']\n",
    ")\n",
    "\n",
    "df_plantation = pd.merge(\n",
    "    left=df_plantation,\n",
    "    right=df_production,\n",
    "    how='left',\n",
    "    on=['Grain', 'Year', 'city']\n",
    ")"
   ]
  },
  {
   "cell_type": "markdown",
   "id": "325f382a",
   "metadata": {},
   "source": [
    "Extraindo unidade federativa do nome da cidade"
   ]
  },
  {
   "cell_type": "code",
   "execution_count": 191,
   "id": "25eeac25",
   "metadata": {},
   "outputs": [],
   "source": [
    "df_plantation['state'] = df_plantation['city'].str.extract(r'\\((\\w{2})\\)')"
   ]
  },
  {
   "cell_type": "markdown",
   "id": "3821d0d4",
   "metadata": {},
   "source": [
    "Removendo informação de unidade federativa da coluna de cidade"
   ]
  },
  {
   "cell_type": "code",
   "execution_count": 192,
   "id": "ffad477b",
   "metadata": {},
   "outputs": [],
   "source": [
    "df_plantation['city'] = df_plantation['city'].str.replace(r'\\(\\w{2}\\)', '', regex=True)\n",
    "df_plantation['city'] = df_plantation['city'].str.strip()"
   ]
  },
  {
   "cell_type": "markdown",
   "id": "dc20d4f9",
   "metadata": {},
   "source": [
    "Criando coluna com as regiões do brazil"
   ]
  },
  {
   "cell_type": "code",
   "execution_count": 202,
   "id": "df1a87f9",
   "metadata": {},
   "outputs": [],
   "source": [
    "brazil_regions = {\n",
    "    'North': ['RO', 'AC', 'AM', 'RR', 'PA', 'AP', 'TO'],\n",
    "    'Northeast': ['MA', 'PI', 'CE', 'RN', 'PB', 'PE', 'AL', 'SE', 'BA'],\n",
    "    'Midwest': ['MT', 'MS', 'GO', 'DF'],\n",
    "    'Southeast': ['MG', 'ES', 'RJ', 'SP'],\n",
    "    'South': ['PR', 'SC', 'RS']\n",
    "}\n",
    "\n",
    "state_to_region = {state: region for region, states in brazil_regions.items() for state in states}\n",
    "\n",
    "df_plantation['region'] = df_plantation['state'].map(state_to_region)"
   ]
  },
  {
   "cell_type": "markdown",
   "id": "3fa2cfb6",
   "metadata": {},
   "source": [
    "Criando chave artificial"
   ]
  },
  {
   "cell_type": "code",
   "execution_count": 203,
   "id": "97357b14",
   "metadata": {},
   "outputs": [],
   "source": [
    "df_plantation['artificial_key'] = (\n",
    "    df_plantation['state']\n",
    "    + df_plantation['city']\n",
    "    + df_plantation['Grain']\n",
    "    + df_plantation['Year'].astype(str)\n",
    ").map(lambda x: sha1(x.encode('utf-8')).hexdigest())"
   ]
  },
  {
   "cell_type": "markdown",
   "id": "0602a1bf",
   "metadata": {},
   "source": [
    "Alterando nome de todas as colunas para _lower case_"
   ]
  },
  {
   "cell_type": "code",
   "execution_count": 204,
   "id": "4b68b257",
   "metadata": {},
   "outputs": [],
   "source": [
    "df_plantation.columns = df_plantation.columns.map(lambda column: column.lower())"
   ]
  },
  {
   "cell_type": "markdown",
   "id": "073689a1",
   "metadata": {},
   "source": [
    "Alterando tipos das colunas"
   ]
  },
  {
   "cell_type": "code",
   "execution_count": 206,
   "id": "4e7224a9",
   "metadata": {},
   "outputs": [],
   "source": [
    "df_plantation = df_plantation.astype({\n",
    "    'artificial_key': str,\n",
    "    'region': str,\n",
    "    'state': str,\n",
    "    'city': str,\n",
    "    'grain': str,\n",
    "    'year': pd.UInt16Dtype(),\n",
    "    'planted_area': pd.UInt64Dtype(),\n",
    "    'harvested_area': pd.UInt64Dtype(),\n",
    "    'production': pd.Float64Dtype(),\n",
    "})"
   ]
  },
  {
   "cell_type": "markdown",
   "id": "5e3d5b91",
   "metadata": {},
   "source": [
    "Alterando ordem das colunas"
   ]
  },
  {
   "cell_type": "code",
   "execution_count": 211,
   "id": "48be1306",
   "metadata": {},
   "outputs": [],
   "source": [
    "df_plantation = df_plantation.loc[:, ['artificial_key', 'region', 'state', 'city', 'grain', 'year', 'planted_area', 'harvested_area', 'production']]"
   ]
  },
  {
   "cell_type": "markdown",
   "id": "6656ed8c",
   "metadata": {},
   "source": [
    "Configurando novo índice para tabela"
   ]
  },
  {
   "cell_type": "code",
   "execution_count": 213,
   "id": "2bbace66",
   "metadata": {},
   "outputs": [],
   "source": [
    "df_plantation.set_index('artificial_key', inplace=True)"
   ]
  },
  {
   "cell_type": "markdown",
   "id": "8e8f361a",
   "metadata": {},
   "source": [
    "Visualizando dados"
   ]
  },
  {
   "cell_type": "code",
   "execution_count": 221,
   "id": "f74c2ef8",
   "metadata": {},
   "outputs": [
    {
     "data": {
      "text/html": [
       "<div>\n",
       "<style scoped>\n",
       "    .dataframe tbody tr th:only-of-type {\n",
       "        vertical-align: middle;\n",
       "    }\n",
       "\n",
       "    .dataframe tbody tr th {\n",
       "        vertical-align: top;\n",
       "    }\n",
       "\n",
       "    .dataframe thead th {\n",
       "        text-align: right;\n",
       "    }\n",
       "</style>\n",
       "<table border=\"1\" class=\"dataframe\">\n",
       "  <thead>\n",
       "    <tr style=\"text-align: right;\">\n",
       "      <th></th>\n",
       "      <th>region</th>\n",
       "      <th>state</th>\n",
       "      <th>city</th>\n",
       "      <th>grain</th>\n",
       "      <th>year</th>\n",
       "      <th>planted_area</th>\n",
       "      <th>harvested_area</th>\n",
       "      <th>production</th>\n",
       "    </tr>\n",
       "    <tr>\n",
       "      <th>artificial_key</th>\n",
       "      <th></th>\n",
       "      <th></th>\n",
       "      <th></th>\n",
       "      <th></th>\n",
       "      <th></th>\n",
       "      <th></th>\n",
       "      <th></th>\n",
       "      <th></th>\n",
       "    </tr>\n",
       "  </thead>\n",
       "  <tbody>\n",
       "    <tr>\n",
       "      <th>f45ad7729c422c093bfbf0fb1f99f8c6ce6dbbf6</th>\n",
       "      <td>Midwest</td>\n",
       "      <td>DF</td>\n",
       "      <td>Brasília</td>\n",
       "      <td>Pea</td>\n",
       "      <td>2017</td>\n",
       "      <td>32</td>\n",
       "      <td>32</td>\n",
       "      <td>7.0</td>\n",
       "    </tr>\n",
       "    <tr>\n",
       "      <th>9a0f47a14c2e92a914b7b6e0d264ed576667edff</th>\n",
       "      <td>Midwest</td>\n",
       "      <td>DF</td>\n",
       "      <td>Brasília</td>\n",
       "      <td>Barley</td>\n",
       "      <td>2018</td>\n",
       "      <td>100</td>\n",
       "      <td>100</td>\n",
       "      <td>4.5</td>\n",
       "    </tr>\n",
       "    <tr>\n",
       "      <th>806f31b6182bbc90bb5e1d6d5196dc670359d217</th>\n",
       "      <td>Midwest</td>\n",
       "      <td>DF</td>\n",
       "      <td>Brasília</td>\n",
       "      <td>Pea</td>\n",
       "      <td>2018</td>\n",
       "      <td>40</td>\n",
       "      <td>40</td>\n",
       "      <td>7.0</td>\n",
       "    </tr>\n",
       "    <tr>\n",
       "      <th>baf47bd13e9014dd74b727e08ca13223252f4ce0</th>\n",
       "      <td>Midwest</td>\n",
       "      <td>DF</td>\n",
       "      <td>Brasília</td>\n",
       "      <td>Barley</td>\n",
       "      <td>2019</td>\n",
       "      <td>100</td>\n",
       "      <td>70</td>\n",
       "      <td>4.5</td>\n",
       "    </tr>\n",
       "    <tr>\n",
       "      <th>2ec357c46a3bb717daea073782baa6b42278d772</th>\n",
       "      <td>Midwest</td>\n",
       "      <td>DF</td>\n",
       "      <td>Brasília</td>\n",
       "      <td>Pea</td>\n",
       "      <td>2019</td>\n",
       "      <td>40</td>\n",
       "      <td>40</td>\n",
       "      <td>7.0</td>\n",
       "    </tr>\n",
       "  </tbody>\n",
       "</table>\n",
       "</div>"
      ],
      "text/plain": [
       "                                           region state      city   grain  \\\n",
       "artificial_key                                                              \n",
       "f45ad7729c422c093bfbf0fb1f99f8c6ce6dbbf6  Midwest    DF  Brasília     Pea   \n",
       "9a0f47a14c2e92a914b7b6e0d264ed576667edff  Midwest    DF  Brasília  Barley   \n",
       "806f31b6182bbc90bb5e1d6d5196dc670359d217  Midwest    DF  Brasília     Pea   \n",
       "baf47bd13e9014dd74b727e08ca13223252f4ce0  Midwest    DF  Brasília  Barley   \n",
       "2ec357c46a3bb717daea073782baa6b42278d772  Midwest    DF  Brasília     Pea   \n",
       "\n",
       "                                          year  planted_area  harvested_area  \\\n",
       "artificial_key                                                                 \n",
       "f45ad7729c422c093bfbf0fb1f99f8c6ce6dbbf6  2017            32              32   \n",
       "9a0f47a14c2e92a914b7b6e0d264ed576667edff  2018           100             100   \n",
       "806f31b6182bbc90bb5e1d6d5196dc670359d217  2018            40              40   \n",
       "baf47bd13e9014dd74b727e08ca13223252f4ce0  2019           100              70   \n",
       "2ec357c46a3bb717daea073782baa6b42278d772  2019            40              40   \n",
       "\n",
       "                                          production  \n",
       "artificial_key                                        \n",
       "f45ad7729c422c093bfbf0fb1f99f8c6ce6dbbf6         7.0  \n",
       "9a0f47a14c2e92a914b7b6e0d264ed576667edff         4.5  \n",
       "806f31b6182bbc90bb5e1d6d5196dc670359d217         7.0  \n",
       "baf47bd13e9014dd74b727e08ca13223252f4ce0         4.5  \n",
       "2ec357c46a3bb717daea073782baa6b42278d772         7.0  "
      ]
     },
     "execution_count": 221,
     "metadata": {},
     "output_type": "execute_result"
    }
   ],
   "source": [
    "df_plantation.tail()"
   ]
  },
  {
   "cell_type": "markdown",
   "id": "4b1a3384",
   "metadata": {},
   "source": [
    "Salvando dados em formato .parquet particioando por ano"
   ]
  },
  {
   "cell_type": "code",
   "execution_count": 232,
   "id": "ce9cbe2e",
   "metadata": {},
   "outputs": [],
   "source": [
    "df_plantation.to_parquet(\n",
    "    path='data/trusted/grains/plantation',\n",
    "    engine='pyarrow',\n",
    "    index=True,\n",
    "    compression='snappy',\n",
    "    partition_cols=['year']\n",
    ")"
   ]
  },
  {
   "cell_type": "markdown",
   "id": "8b740d79",
   "metadata": {},
   "source": [
    "## Dados metereológicos"
   ]
  },
  {
   "cell_type": "markdown",
   "id": "74737639",
   "metadata": {},
   "source": [
    "Mapeando o caminho de todos os arquivos csv com dados metereológicos"
   ]
  },
  {
   "cell_type": "code",
   "execution_count": 8,
   "id": "6ce8c868",
   "metadata": {},
   "outputs": [],
   "source": [
    "folder_path = './data/raw/environmental'\n",
    "csv_files = list(map(\n",
    "    lambda file: f'{folder_path}/{file}',\n",
    "    os.listdir(folder_path)\n",
    "))"
   ]
  },
  {
   "cell_type": "markdown",
   "id": "67fae57a",
   "metadata": {},
   "source": [
    "Criando função para ler metadados sobre a estação meteorológica"
   ]
  },
  {
   "cell_type": "code",
   "execution_count": 76,
   "id": "16b7c17e",
   "metadata": {},
   "outputs": [],
   "source": [
    "def extract_station_info(file_path: str, number_of_lines: int = 9):\n",
    "\n",
    "    metadata = {}\n",
    "\n",
    "    with open(file_path) as file:\n",
    "        \n",
    "        line_number = 1\n",
    "        while line_number < 10:\n",
    "            line = file.readline().strip()\n",
    "            key, value = line.split(':')\n",
    "            metadata[key.strip()] = value.strip()\n",
    "            line_number += 1\n",
    "    \n",
    "    return metadata"
   ]
  },
  {
   "cell_type": "markdown",
   "id": "257cd275",
   "metadata": {},
   "source": [
    "Lendos todos os arquivos CSV"
   ]
  },
  {
   "cell_type": "code",
   "execution_count": 203,
   "id": "b549fd8b",
   "metadata": {},
   "outputs": [],
   "source": [
    "df_station = pd.DataFrame()\n",
    "df_meteorology = pd.DataFrame()\n",
    "\n",
    "for csv_file in csv_files:\n",
    "\n",
    "    station_metadata = extract_station_info(csv_file)\n",
    "    df_station_data = pd.DataFrame([station_metadata])\n",
    "    df_station = pd.concat([df_station, df_station_data])\n",
    "\n",
    "    df_meteorology_data = pd.read_csv(\n",
    "        filepath_or_buffer=csv_file,\n",
    "        sep=';',\n",
    "        skiprows=10, # ignorar linhas com metadados\n",
    "        index_col=False,\n",
    "        usecols=range(7), # coletar apenas as 7 primeiras colunas do CSV,\n",
    "        decimal=',',\n",
    "        parse_dates=[0], # convertendo primeira coluna para tipo date\n",
    "        dtype={ 1: pd.UInt16Dtype() } # convertendo segunda coluna para int\n",
    "    )\n",
    "\n",
    "    df_meteorology_data['station_code'] = station_metadata['Codigo Estacao']\n",
    "    df_meteorology = pd.concat([df_meteorology, df_meteorology_data])"
   ]
  },
  {
   "cell_type": "code",
   "execution_count": 204,
   "id": "68d401aa",
   "metadata": {},
   "outputs": [],
   "source": [
    "df_station[['city', 'sub_region']] = df_station['Nome'].str.split(\n",
    "    pat='-',\n",
    "    n=1,\n",
    "    expand=True\n",
    ")"
   ]
  },
  {
   "cell_type": "markdown",
   "id": "b0bc5ced",
   "metadata": {},
   "source": [
    "Corrigindo algumas exceções"
   ]
  },
  {
   "cell_type": "code",
   "execution_count": null,
   "id": "4312468e",
   "metadata": {},
   "outputs": [],
   "source": [
    "paranoa_index = df_station['Nome'] == 'PARANOA (COOPA-DF)'\n",
    "df_station['city'][paranoa_index] = 'PARANOA'\n",
    "df_station['sub_region'][paranoa_index] = None\n",
    "\n",
    "guarda_mor_index = df_station['Nome'] == 'GUARDA-MOR'\n",
    "df_station['city'][guarda_mor_index] = 'GUARDA-MOR'\n",
    "df_station['sub_region'][guarda_mor_index] = None"
   ]
  },
  {
   "cell_type": "code",
   "execution_count": 206,
   "id": "fdd40f2e",
   "metadata": {},
   "outputs": [],
   "source": [
    "df_station.rename(\n",
    "    inplace=True,\n",
    "    columns={\n",
    "        'Codigo Estacao': 'station_code',\n",
    "        'Latitude': 'latitude',\n",
    "        'Longitude': 'longitude',\n",
    "        'Altitude': 'altitude',\n",
    "        'Situacao': 'operational_condition',\n",
    "        'Data Inicial': 'initial_date',\n",
    "        'Data Final': 'final_date',\n",
    "        'Periodicidade da Medicao': 'measurement_frequency',\n",
    "    }\n",
    ")"
   ]
  },
  {
   "cell_type": "code",
   "execution_count": 207,
   "id": "e57b70bc",
   "metadata": {},
   "outputs": [],
   "source": [
    "df_station = df_station.astype({\n",
    "    'station_code': str,\n",
    "    'latitude': 'Float64',\n",
    "    'longitude': 'Float64',\n",
    "    'altitude': 'Float64',\n",
    "    'initial_date': 'datetime64[ns]',\n",
    "    'final_date': 'datetime64[ns]',\n",
    "})"
   ]
  },
  {
   "cell_type": "code",
   "execution_count": 208,
   "id": "61527b97",
   "metadata": {},
   "outputs": [],
   "source": [
    "df_station.drop(columns=['Nome'], inplace=True)"
   ]
  },
  {
   "cell_type": "code",
   "execution_count": 212,
   "id": "138ad587",
   "metadata": {},
   "outputs": [
    {
     "data": {
      "text/html": [
       "<div>\n",
       "<style scoped>\n",
       "    .dataframe tbody tr th:only-of-type {\n",
       "        vertical-align: middle;\n",
       "    }\n",
       "\n",
       "    .dataframe tbody tr th {\n",
       "        vertical-align: top;\n",
       "    }\n",
       "\n",
       "    .dataframe thead th {\n",
       "        text-align: right;\n",
       "    }\n",
       "</style>\n",
       "<table border=\"1\" class=\"dataframe\">\n",
       "  <thead>\n",
       "    <tr style=\"text-align: right;\">\n",
       "      <th></th>\n",
       "      <th>station_code</th>\n",
       "      <th>latitude</th>\n",
       "      <th>longitude</th>\n",
       "      <th>altitude</th>\n",
       "      <th>operational_condition</th>\n",
       "      <th>initial_date</th>\n",
       "      <th>final_date</th>\n",
       "      <th>measurement_frequency</th>\n",
       "      <th>city</th>\n",
       "      <th>sub_region</th>\n",
       "    </tr>\n",
       "  </thead>\n",
       "  <tbody>\n",
       "    <tr>\n",
       "      <th>0</th>\n",
       "      <td>A944</td>\n",
       "      <td>-14.828889</td>\n",
       "      <td>-56.441944</td>\n",
       "      <td>195.0</td>\n",
       "      <td>Operante</td>\n",
       "      <td>2019-05-29</td>\n",
       "      <td>2019-12-31</td>\n",
       "      <td>Mensal</td>\n",
       "      <td>ROSARIO OESTE</td>\n",
       "      <td>None</td>\n",
       "    </tr>\n",
       "    <tr>\n",
       "      <th>0</th>\n",
       "      <td>B803</td>\n",
       "      <td>-24.570833</td>\n",
       "      <td>-52.800278</td>\n",
       "      <td>598.0</td>\n",
       "      <td>Operante</td>\n",
       "      <td>2016-08-03</td>\n",
       "      <td>2019-12-31</td>\n",
       "      <td>Mensal</td>\n",
       "      <td>CAMPINA DA LAGOA</td>\n",
       "      <td>None</td>\n",
       "    </tr>\n",
       "    <tr>\n",
       "      <th>0</th>\n",
       "      <td>B804</td>\n",
       "      <td>-25.371389</td>\n",
       "      <td>-52.400833</td>\n",
       "      <td>889.0</td>\n",
       "      <td>Operante</td>\n",
       "      <td>2016-08-06</td>\n",
       "      <td>2019-12-31</td>\n",
       "      <td>Mensal</td>\n",
       "      <td>LARANJEIRAS DO SUL</td>\n",
       "      <td>None</td>\n",
       "    </tr>\n",
       "    <tr>\n",
       "      <th>0</th>\n",
       "      <td>B806</td>\n",
       "      <td>-25.322464</td>\n",
       "      <td>-49.157733</td>\n",
       "      <td>950.0</td>\n",
       "      <td>Operante</td>\n",
       "      <td>2016-05-31</td>\n",
       "      <td>2019-12-31</td>\n",
       "      <td>Mensal</td>\n",
       "      <td>COLOMBO</td>\n",
       "      <td>None</td>\n",
       "    </tr>\n",
       "    <tr>\n",
       "      <th>0</th>\n",
       "      <td>F501</td>\n",
       "      <td>-19.98</td>\n",
       "      <td>-43.958611</td>\n",
       "      <td>1199.55</td>\n",
       "      <td>Operante</td>\n",
       "      <td>2013-12-26</td>\n",
       "      <td>2019-12-31</td>\n",
       "      <td>Mensal</td>\n",
       "      <td>BELO HORIZONTE</td>\n",
       "      <td>CERCADINHO</td>\n",
       "    </tr>\n",
       "  </tbody>\n",
       "</table>\n",
       "</div>"
      ],
      "text/plain": [
       "  station_code   latitude  longitude  altitude operational_condition  \\\n",
       "0         A944 -14.828889 -56.441944     195.0              Operante   \n",
       "0         B803 -24.570833 -52.800278     598.0              Operante   \n",
       "0         B804 -25.371389 -52.400833     889.0              Operante   \n",
       "0         B806 -25.322464 -49.157733     950.0              Operante   \n",
       "0         F501     -19.98 -43.958611   1199.55              Operante   \n",
       "\n",
       "  initial_date final_date measurement_frequency                city  \\\n",
       "0   2019-05-29 2019-12-31                Mensal       ROSARIO OESTE   \n",
       "0   2016-08-03 2019-12-31                Mensal    CAMPINA DA LAGOA   \n",
       "0   2016-08-06 2019-12-31                Mensal  LARANJEIRAS DO SUL   \n",
       "0   2016-05-31 2019-12-31                Mensal             COLOMBO   \n",
       "0   2013-12-26 2019-12-31                Mensal     BELO HORIZONTE    \n",
       "\n",
       "    sub_region  \n",
       "0         None  \n",
       "0         None  \n",
       "0         None  \n",
       "0         None  \n",
       "0   CERCADINHO  "
      ]
     },
     "execution_count": 212,
     "metadata": {},
     "output_type": "execute_result"
    }
   ],
   "source": [
    "df_station.tail()"
   ]
  },
  {
   "cell_type": "code",
   "execution_count": 213,
   "id": "7fe52a0f",
   "metadata": {},
   "outputs": [],
   "source": [
    "df_station.to_parquet(\n",
    "    path='data/trusted/environmental/station.parquet.snappy',\n",
    "    engine='pyarrow',\n",
    "    index=True,\n",
    "    compression='snappy',\n",
    ")"
   ]
  },
  {
   "cell_type": "code",
   "execution_count": 214,
   "id": "0824e6ed",
   "metadata": {},
   "outputs": [],
   "source": [
    "df_meteorology.rename(\n",
    "    inplace=True,\n",
    "    columns={\n",
    "        'Data Medicao': 'measurement_date',\n",
    "        'NUMERO DE DIAS COM PRECIP. PLUV, MENSAL (AUT)(número)': 'number_of_rainy_days',\n",
    "        'PRECIPITACAO TOTAL, MENSAL (AUT)(mm)': 'total_precipitation',\n",
    "        'PRESSAO ATMOSFERICA, MEDIA MENSAL (AUT)(mB)': 'atmospheric_pressure',\n",
    "        'TEMPERATURA MEDIA, MENSAL (AUT)(°C)': 'average_temperature',\n",
    "        'VENTO, VELOCIDADE MAXIMA MENSAL (AUT)(m/s)': 'maximum_wind_speed',\n",
    "        'VENTO, VELOCIDADE MEDIA MENSAL (AUT)(m/s)': 'average_wind_speed',\n",
    "    }\n",
    ")"
   ]
  },
  {
   "cell_type": "code",
   "execution_count": 215,
   "id": "adf0e6ec",
   "metadata": {},
   "outputs": [
    {
     "data": {
      "text/html": [
       "<div>\n",
       "<style scoped>\n",
       "    .dataframe tbody tr th:only-of-type {\n",
       "        vertical-align: middle;\n",
       "    }\n",
       "\n",
       "    .dataframe tbody tr th {\n",
       "        vertical-align: top;\n",
       "    }\n",
       "\n",
       "    .dataframe thead th {\n",
       "        text-align: right;\n",
       "    }\n",
       "</style>\n",
       "<table border=\"1\" class=\"dataframe\">\n",
       "  <thead>\n",
       "    <tr style=\"text-align: right;\">\n",
       "      <th></th>\n",
       "      <th>measurement_date</th>\n",
       "      <th>number_of_rainy_days</th>\n",
       "      <th>total_precipitation</th>\n",
       "      <th>atmospheric_pressure</th>\n",
       "      <th>average_temperature</th>\n",
       "      <th>maximum_wind_speed</th>\n",
       "      <th>average_wind_speed</th>\n",
       "      <th>station_code</th>\n",
       "    </tr>\n",
       "  </thead>\n",
       "  <tbody>\n",
       "    <tr>\n",
       "      <th>68</th>\n",
       "      <td>2019-08-31</td>\n",
       "      <td>3</td>\n",
       "      <td>9.4</td>\n",
       "      <td>886.6</td>\n",
       "      <td>17.9</td>\n",
       "      <td>17.1</td>\n",
       "      <td>6.4</td>\n",
       "      <td>F501</td>\n",
       "    </tr>\n",
       "    <tr>\n",
       "      <th>69</th>\n",
       "      <td>2019-09-30</td>\n",
       "      <td>2</td>\n",
       "      <td>29.4</td>\n",
       "      <td>883.8</td>\n",
       "      <td>21.0</td>\n",
       "      <td>14.7</td>\n",
       "      <td>6.5</td>\n",
       "      <td>F501</td>\n",
       "    </tr>\n",
       "    <tr>\n",
       "      <th>70</th>\n",
       "      <td>2019-10-31</td>\n",
       "      <td>7</td>\n",
       "      <td>69.4</td>\n",
       "      <td>881.9</td>\n",
       "      <td>21.5</td>\n",
       "      <td>14.9</td>\n",
       "      <td>6.0</td>\n",
       "      <td>F501</td>\n",
       "    </tr>\n",
       "    <tr>\n",
       "      <th>71</th>\n",
       "      <td>2019-11-30</td>\n",
       "      <td>18</td>\n",
       "      <td>254.4</td>\n",
       "      <td>880.4</td>\n",
       "      <td>21.0</td>\n",
       "      <td>15.0</td>\n",
       "      <td>5.9</td>\n",
       "      <td>F501</td>\n",
       "    </tr>\n",
       "    <tr>\n",
       "      <th>72</th>\n",
       "      <td>2019-12-31</td>\n",
       "      <td>19</td>\n",
       "      <td>215.0</td>\n",
       "      <td>881.1</td>\n",
       "      <td>20.9</td>\n",
       "      <td>13.7</td>\n",
       "      <td>4.9</td>\n",
       "      <td>F501</td>\n",
       "    </tr>\n",
       "  </tbody>\n",
       "</table>\n",
       "</div>"
      ],
      "text/plain": [
       "   measurement_date  number_of_rainy_days  total_precipitation  \\\n",
       "68       2019-08-31                     3                  9.4   \n",
       "69       2019-09-30                     2                 29.4   \n",
       "70       2019-10-31                     7                 69.4   \n",
       "71       2019-11-30                    18                254.4   \n",
       "72       2019-12-31                    19                215.0   \n",
       "\n",
       "    atmospheric_pressure  average_temperature  maximum_wind_speed  \\\n",
       "68                 886.6                 17.9                17.1   \n",
       "69                 883.8                 21.0                14.7   \n",
       "70                 881.9                 21.5                14.9   \n",
       "71                 880.4                 21.0                15.0   \n",
       "72                 881.1                 20.9                13.7   \n",
       "\n",
       "    average_wind_speed station_code  \n",
       "68                 6.4         F501  \n",
       "69                 6.5         F501  \n",
       "70                 6.0         F501  \n",
       "71                 5.9         F501  \n",
       "72                 4.9         F501  "
      ]
     },
     "execution_count": 215,
     "metadata": {},
     "output_type": "execute_result"
    }
   ],
   "source": [
    "df_meteorology.tail()"
   ]
  },
  {
   "cell_type": "code",
   "execution_count": 216,
   "id": "c8604804",
   "metadata": {},
   "outputs": [],
   "source": [
    "df_meteorology.to_parquet(\n",
    "    path='data/trusted/environmental/meteorology.parquet.snappy',\n",
    "    engine='pyarrow',\n",
    "    index=False,\n",
    "    compression='snappy',\n",
    ")"
   ]
  }
 ],
 "metadata": {
  "kernelspec": {
   "display_name": "sklearn-env",
   "language": "python",
   "name": "python3"
  },
  "language_info": {
   "codemirror_mode": {
    "name": "ipython",
    "version": 3
   },
   "file_extension": ".py",
   "mimetype": "text/x-python",
   "name": "python",
   "nbconvert_exporter": "python",
   "pygments_lexer": "ipython3",
   "version": "3.12.3"
  }
 },
 "nbformat": 4,
 "nbformat_minor": 5
}
